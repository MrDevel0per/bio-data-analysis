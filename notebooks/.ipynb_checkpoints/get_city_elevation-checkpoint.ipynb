{
 "cells": [
  {
   "cell_type": "markdown",
   "id": "e44afd0b-3ab6-4bb8-8ffc-c16dc3232920",
   "metadata": {},
   "source": [
    "# Getting City Elevation Data\n",
    "## Steps\n",
    "1. Determine elevation for each tree via longitude and latitude\n",
    "2. Save new field, `elevation`, into tree files"
   ]
  },
  {
   "cell_type": "code",
   "execution_count": 26,
   "id": "7aa7a2d5-3e19-4500-aff1-335943ac144b",
   "metadata": {},
   "outputs": [
    {
     "name": "stdout",
     "output_type": "stream",
     "text": [
      "Elevation: 51.0 meters\n"
     ]
    }
   ],
   "source": [
    "import requests\n",
    "\n",
    "def get_elevation(lat, long):\n",
    "    query = f\"https://api.open-elevation.com/api/v1/lookup?locations={lat},{long}\"\n",
    "    response = requests.get(query).json()\n",
    "    return response['results'][0]['elevation']\n",
    "\n",
    "# Example usage:\n",
    "elevation = get_elevation(40.7142700, -74.0059700)  # Coordinates for New York City\n",
    "print(f\"Elevation: {elevation} meters\")"
   ]
  },
  {
   "cell_type": "code",
   "execution_count": 16,
   "id": "889ce2bc-b897-4265-a86a-12606ee76e88",
   "metadata": {},
   "outputs": [
    {
     "data": {
      "text/plain": [
       "['Milwaukee_Final_2022-06-18.csv',\n",
       " 'Anaheim_Final_2022-06-18.csv',\n",
       " 'Irvine_Final_2022-06-18.csv',\n",
       " 'RanchoCucamonga_Final_2022-06-18.csv',\n",
       " 'Arlington_Final_2022-06-18.csv',\n",
       " 'Rochester_Final_2022-06-18.csv',\n",
       " 'Miami_Final_2022-06-18.csv',\n",
       " 'Austin_Final_2022-06-18.csv',\n",
       " 'Stockton_Final_2022-06-18.csv',\n",
       " 'Seattle_Final_2022-06-18.csv',\n",
       " 'LosAngeles_Final_2022-06-18.csv',\n",
       " 'AuroraCO_Final_2022-06-18.csv',\n",
       " 'NewYork_Final_2022-06-18.csv',\n",
       " 'Oakland_Final_2022-06-18.csv',\n",
       " 'SanFrancisco_Final_2022-06-18.csv',\n",
       " 'Boston_Final_2022-06-18.csv',\n",
       " 'Ontario_Final_2022-06-18.csv',\n",
       " 'GrandRapids_Final_2022-06-18.csv',\n",
       " 'Baltimore_Final_2022-06-18.csv',\n",
       " 'Albuquerque_Final_2022-06-18.csv',\n",
       " 'Greensboro_Final_2022-06-18.csv',\n",
       " 'OklahomaCity_Final_2022-06-18.csv',\n",
       " 'HuntingtonBeach_Final_2022-06-18.csv',\n",
       " 'Fresno_Final_2022-06-18.csv',\n",
       " 'Orlando_Final_2022-06-18.csv',\n",
       " 'Nashville_Final_2022-06-18.csv',\n",
       " 'StLouis_Final_2022-06-18.csv',\n",
       " 'Tampa_Final_2022-06-18.csv',\n",
       " 'LasVegas_Final_2022-06-18.csv',\n",
       " 'Phoenix_Final_2022-06-18.csv',\n",
       " 'Minneapolis_Final_2022-06-18.csv',\n",
       " 'Indianapolis_Final_2022-06-18.csv',\n",
       " 'NewOrleans_Final_2022-06-18.csv',\n",
       " 'Madison_Final_2022-06-18.csv',\n",
       " 'Columbus_Final_2022-06-18.csv',\n",
       " 'Knoxville_Final_2022-06-18.csv',\n",
       " 'GardenGrove_Final_2022-06-18.csv',\n",
       " 'Honolulu_Final_2022-06-18.csv',\n",
       " 'Plano_Final_2022-06-18.csv',\n",
       " 'Richmond_Final_2022-06-18.csv',\n",
       " 'Jerseycity_Final_2022-06-18.csv',\n",
       " 'Detroit_Final_2022-06-18.csv',\n",
       " 'Portland_Final_2022-06-18.csv',\n",
       " 'Providence_Final_2022-06-18.csv',\n",
       " 'SanJose_Final_2022-06-18.csv',\n",
       " 'Atlanta_Final_2022-06-18.csv',\n",
       " 'ColoradoSprings_Final_2022-06-18.csv',\n",
       " 'Pittsburgh_Final_2022-06-18.csv',\n",
       " 'Louisville_Final_2022-06-18.csv',\n",
       " 'CapeCoral_Final_2022-06-18.csv',\n",
       " 'Denver_Final_2022-06-18.csv',\n",
       " 'Worcester_Final_2022-06-18.csv',\n",
       " 'OverlandPark_Final_2022-06-18.csv',\n",
       " 'Houston_Final_2022-06-18.csv',\n",
       " 'Durham_Final_2022-06-18.csv',\n",
       " 'SanDiego_Final_2022-06-18.csv',\n",
       " 'Dallas_Final_2022-06-18.csv',\n",
       " 'SantaRosa_Final_2022-06-18.csv',\n",
       " 'DesMoines_Final_2022-06-18.csv',\n",
       " 'Sacramento_Final_2022-06-18.csv',\n",
       " 'WashingtonDC_Final_2022-06-18.csv',\n",
       " 'Buffalo_Final_2022-06-18.csv',\n",
       " 'SiouxFalls_Final_2022-06-18.csv']"
      ]
     },
     "execution_count": 16,
     "metadata": {},
     "output_type": "execute_result"
    }
   ],
   "source": [
    "# Now, let's loop over each file\n",
    "import os\n",
    "FILEPATH = \"/Users/owen/dev/tmp/bio-data-analysis/data/trees/\" # Update with your project path\n",
    "csv_files = os.listdir(FILEPATH)\n",
    "csv_files"
   ]
  },
  {
   "cell_type": "code",
   "execution_count": 17,
   "id": "aefa770d-dcf0-4a3e-8ede-1b124d970ec8",
   "metadata": {},
   "outputs": [
    {
     "name": "stdout",
     "output_type": "stream",
     "text": [
      " Aurora CO\n",
      " Grand Rapids\n",
      " USA\n"
     ]
    }
   ],
   "source": [
    "def separate_caps(text):\n",
    "  \"\"\"Inserts spaces between uppercase letters in a string, unless they're consecutive.\n",
    "\n",
    "  Args:\n",
    "      text: The string to separate.\n",
    "\n",
    "  Returns:\n",
    "      A new string with spaces inserted between uppercase letters.\n",
    "  \"\"\"\n",
    "  result = []\n",
    "  prev_was_upper = False\n",
    "  for char in text:\n",
    "    if char.isupper():\n",
    "      if not prev_was_upper:\n",
    "        result.append(' ')\n",
    "      result.append(char)\n",
    "      prev_was_upper = True\n",
    "    else:\n",
    "      result.append(char)\n",
    "      prev_was_upper = False\n",
    "  return ''.join(result)\n",
    "\n",
    "# Test cases\n",
    "print(separate_caps(\"AuroraCO\"))  # Output: Aurora CO\n",
    "print(separate_caps(\"GrandRapids\"))  # Output: Grand Rapids\n",
    "print(separate_caps(\"USA\"))  # Output: USA"
   ]
  },
  {
   "cell_type": "code",
   "execution_count": 18,
   "id": "9d89165f-6a73-41dc-aa0a-af5b11494ad2",
   "metadata": {},
   "outputs": [
    {
     "name": "stdout",
     "output_type": "stream",
     "text": [
      "Requirement already satisfied: geopy in /Users/owen/dev/tmp/bio-data-analysis/venv/lib/python3.12/site-packages (2.4.1)\n",
      "Requirement already satisfied: geographiclib<3,>=1.52 in /Users/owen/dev/tmp/bio-data-analysis/venv/lib/python3.12/site-packages (from geopy) (2.0)\n",
      "The coordinates of AuroraCO are: (43.6963371, -98.5722461)\n"
     ]
    }
   ],
   "source": [
    "!pip install geopy\n",
    "from geopy.geocoders import Nominatim\n",
    "from geopy.exc import GeocoderTimedOut, GeocoderServiceError\n",
    "\n",
    "def get_city_coordinates(city_query):\n",
    "    # At each capitalization, add a space\n",
    "    try:\n",
    "        geolocator = Nominatim(user_agent=\"city_coordinates_for_bio_lab\")\n",
    "        location = geolocator.geocode(separate_caps(city_query), timeout=10)\n",
    "        \n",
    "        if location:\n",
    "            return (location.latitude, location.longitude)\n",
    "        else:\n",
    "            return None\n",
    "    except (GeocoderTimedOut, GeocoderServiceError) as e:\n",
    "        print(f\"Error: {e}\")\n",
    "        return None\n",
    "\n",
    "# Example usage\n",
    "city_query = \"AuroraCO\"\n",
    "coordinates = get_city_coordinates(city_query)\n",
    "\n",
    "if coordinates:\n",
    "    print(f\"The coordinates of {city_query} are: {coordinates}\")\n",
    "else:\n",
    "    print(f\"Could not find coordinates for {city_query}\")"
   ]
  },
  {
   "cell_type": "code",
   "execution_count": 29,
   "id": "ca66421b-bcb2-4915-9d93-c437aaa0bc22",
   "metadata": {
    "scrolled": true
   },
   "outputs": [
    {
     "name": "stdout",
     "output_type": "stream",
     "text": [
      "Milwaukee\n"
     ]
    },
    {
     "ename": "TypeError",
     "evalue": "'float' object is not callable",
     "output_type": "error",
     "traceback": [
      "\u001b[0;31m---------------------------------------------------------------------------\u001b[0m",
      "\u001b[0;31mTypeError\u001b[0m                                 Traceback (most recent call last)",
      "Cell \u001b[0;32mIn[29], line 6\u001b[0m\n\u001b[1;32m      4\u001b[0m \u001b[38;5;28mprint\u001b[39m(name)\n\u001b[1;32m      5\u001b[0m coors \u001b[38;5;241m=\u001b[39m get_city_coordinates(name)\n\u001b[0;32m----> 6\u001b[0m this_elevation \u001b[38;5;241m=\u001b[39m \u001b[43melevation\u001b[49m\u001b[43m(\u001b[49m\u001b[43mcoors\u001b[49m\u001b[43m[\u001b[49m\u001b[38;5;241;43m0\u001b[39;49m\u001b[43m]\u001b[49m\u001b[43m,\u001b[49m\u001b[43m \u001b[49m\u001b[43mcoors\u001b[49m\u001b[43m[\u001b[49m\u001b[38;5;241;43m1\u001b[39;49m\u001b[43m]\u001b[49m\u001b[43m)\u001b[49m\n\u001b[1;32m      7\u001b[0m \u001b[38;5;28mprint\u001b[39m(this_elevation)\n\u001b[1;32m      8\u001b[0m \u001b[38;5;28;01mbreak\u001b[39;00m\n",
      "\u001b[0;31mTypeError\u001b[0m: 'float' object is not callable"
     ]
    }
   ],
   "source": [
    "import csv\n",
    "for file in csv_files:\n",
    "    name = file.split(\"_\")[0]\n",
    "    print(name)\n",
    "    coors = get_city_coordinates(name)\n",
    "    this_elevation = elevation(coors[0], coors[1])\n",
    "    print(this_elevation)\n",
    "    break\n",
    "    # We calculate the elevation for the city\n",
    "    print(\"Going over file: \", file)\n",
    "    path = os.path.join(FILEPATH, file)\n",
    "    with open(path, \"r\") as f:\n",
    "        reader = csv.reader(f, delimiter=\",\")\n",
    "        lines = list(reader)\n",
    "\n",
    "    # Add the new 'elevation' field to the header\n",
    "    header = lines[0]\n",
    "    header.append('elevation')\n",
    "\n",
    "    # Add the default elevation value to each row\n",
    "    for row in lines[1:]:\n",
    "        # Longitude is at index 6\n",
    "        # Latitude at index 7\n",
    "        long, lat = row[6], row[7]\n",
    "        elevation = get_elevation(lat, long)\n",
    "        row.append(elevation)\n",
    "\n",
    "    # Write the updated content back to the file\n",
    "    with open(path, \"w\", newline=\"\") as f:\n",
    "        writer = csv.writer(f, delimiter=\",\")\n",
    "        writer.writerows(lines)\n"
   ]
  },
  {
   "cell_type": "code",
   "execution_count": null,
   "id": "8ecb5e7d-1c7c-4acb-a6b6-d69fe79ceb25",
   "metadata": {},
   "outputs": [],
   "source": []
  }
 ],
 "metadata": {
  "kernelspec": {
   "display_name": "Python 3 (ipykernel)",
   "language": "python",
   "name": "python3"
  },
  "language_info": {
   "codemirror_mode": {
    "name": "ipython",
    "version": 3
   },
   "file_extension": ".py",
   "mimetype": "text/x-python",
   "name": "python",
   "nbconvert_exporter": "python",
   "pygments_lexer": "ipython3",
   "version": "3.12.3"
  }
 },
 "nbformat": 4,
 "nbformat_minor": 5
}
