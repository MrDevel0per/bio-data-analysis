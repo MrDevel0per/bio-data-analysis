{
 "cells": [
  {
   "cell_type": "markdown",
   "id": "6ca2a335-9584-4fb4-8397-0e65b343286d",
   "metadata": {},
   "source": [
    "# Data Analysis\n",
    "First, we load all of the data. NOTE: You must have enough memory to do so. Then, we average the height for each elevation and print it out."
   ]
  },
  {
   "cell_type": "code",
   "execution_count": 1,
   "id": "ce15d6d7-a9b2-4d72-bf91-14f3db88cfd4",
   "metadata": {},
   "outputs": [],
   "source": [
    "# Let's find missing columns\n",
    "import pandas as pd\n",
    "import pandas as pd\n",
    "import os\n",
    "\n",
    "\n",
    "def find_missing_column(filepaths):\n",
    "  \"\"\"\n",
    "  This function takes a list of CSV filepaths and checks for a missing column across them.\n",
    "\n",
    "  Args:\n",
    "      filepaths (list): A list of strings representing CSV file paths.\n",
    "\n",
    "  Returns:\n",
    "      str: The index of the file with the missing column, or \"All files have the column\" if all have it.\n",
    "  \"\"\"\n",
    "  # Initialize variables\n",
    "  dataframes = []\n",
    "  reference_columns = None\n",
    "\n",
    "  # Read CSVs and check for missing columns\n",
    "  for i, filepath in enumerate(filepaths):\n",
    "    try:\n",
    "      df = pd.read_csv(filepath)\n",
    "      dataframes.append(df)\n",
    "      if reference_columns is None:\n",
    "        reference_columns = set(df.columns)\n",
    "      missing_columns = reference_columns.difference(df.columns)\n",
    "      if missing_columns:\n",
    "        return f\"File {i+1} ({filepath}) is missing columns: {', '.join(missing_columns)}\"\n",
    "    except FileNotFoundError:\n",
    "      print(f\"File not found: {filepath}\")\n",
    "      return \"Error: File not found\"\n",
    "\n",
    "  # If no missing columns are found, return a message\n",
    "  if dataframes:  # Check if any files were successfully read\n",
    "    return \"All files have all columns\"\n",
    "  else:\n",
    "    return \"No files found\""
   ]
  },
  {
   "cell_type": "code",
   "execution_count": 3,
   "id": "b5ccee3a-0b2f-4507-8e87-d6badd61b2d3",
   "metadata": {},
   "outputs": [
    {
     "name": "stderr",
     "output_type": "stream",
     "text": [
      "/var/folders/hn/ngdt3_fj1cn_2tpjnwnz67y40000gn/T/ipykernel_68883/2016740495.py:24: DtypeWarning: Columns (0) have mixed types. Specify dtype option on import or set low_memory=False.\n",
      "  df = pd.read_csv(filepath)\n",
      "/var/folders/hn/ngdt3_fj1cn_2tpjnwnz67y40000gn/T/ipykernel_68883/2016740495.py:24: DtypeWarning: Columns (0) have mixed types. Specify dtype option on import or set low_memory=False.\n",
      "  df = pd.read_csv(filepath)\n",
      "/var/folders/hn/ngdt3_fj1cn_2tpjnwnz67y40000gn/T/ipykernel_68883/2016740495.py:24: DtypeWarning: Columns (0) have mixed types. Specify dtype option on import or set low_memory=False.\n",
      "  df = pd.read_csv(filepath)\n"
     ]
    },
    {
     "data": {
      "text/plain": [
       "'All files have all columns'"
      ]
     },
     "execution_count": 3,
     "metadata": {},
     "output_type": "execute_result"
    }
   ],
   "source": [
    "# Data loading - may take a while depending on read/write speed\n",
    "import pandas as pd\n",
    "import os\n",
    "FILEPATH = \"/Users/owen/Development/tmp/bio-data-analysis/data/trees/\" # Update with your project path\n",
    "# We load a list of the data\n",
    "filepaths = []\n",
    "for file in os.listdir(FILEPATH):\n",
    "    # Add together the file and the path\n",
    "    path = os.path.join(FILEPATH, file)\n",
    "    filepaths += [path]\n",
    "#     if type(data) != pd.DataFrame:\n",
    "#         data = pd.read_csv(path) # Create data\n",
    "#     else:\n",
    "#         data = pd.concat([data, pd.read_csv(path)], axis=0, how='outer') # Add data\n",
    "# len(data)\n",
    "find_missing_column(filepaths)"
   ]
  },
  {
   "cell_type": "code",
   "execution_count": 4,
   "id": "be4b47b4-f676-4d19-b366-84bb818ea437",
   "metadata": {},
   "outputs": [
    {
     "name": "stderr",
     "output_type": "stream",
     "text": [
      "/var/folders/hn/ngdt3_fj1cn_2tpjnwnz67y40000gn/T/ipykernel_68883/4018286533.py:10: DtypeWarning: Columns (0) have mixed types. Specify dtype option on import or set low_memory=False.\n",
      "  data = pd.concat([data, pd.read_csv(path)], axis=0) # Add data\n",
      "/var/folders/hn/ngdt3_fj1cn_2tpjnwnz67y40000gn/T/ipykernel_68883/4018286533.py:10: DtypeWarning: Columns (0) have mixed types. Specify dtype option on import or set low_memory=False.\n",
      "  data = pd.concat([data, pd.read_csv(path)], axis=0) # Add data\n",
      "/var/folders/hn/ngdt3_fj1cn_2tpjnwnz67y40000gn/T/ipykernel_68883/4018286533.py:10: DtypeWarning: Columns (0) have mixed types. Specify dtype option on import or set low_memory=False.\n",
      "  data = pd.concat([data, pd.read_csv(path)], axis=0) # Add data\n"
     ]
    },
    {
     "data": {
      "text/plain": [
       "5660237"
      ]
     },
     "execution_count": 4,
     "metadata": {},
     "output_type": "execute_result"
    }
   ],
   "source": [
    "# Data loading - may take a while depending on read/write speed\n",
    "# We load a list of the data\n",
    "data = None\n",
    "for file in os.listdir(FILEPATH):\n",
    "    # Add together the file and the path\n",
    "    path = os.path.join(FILEPATH, file)\n",
    "    if type(data) != pd.DataFrame:\n",
    "        data = pd.read_csv(path) # Create data\n",
    "    else:\n",
    "        data = pd.concat([data, pd.read_csv(path)], axis=0) # Add data\n",
    "len(data)"
   ]
  },
  {
   "cell_type": "code",
   "execution_count": 11,
   "id": "38b54250-a797-4125-b695-ae5f5dab66e8",
   "metadata": {},
   "outputs": [
    {
     "name": "stdout",
     "output_type": "stream",
     "text": [
      "We need trees with ELEVATION DATA. That means that we actually only have 709143 trees.\n"
     ]
    }
   ],
   "source": [
    "if data['height_M'].isnull().any():\n",
    "  # Handle missing values (e.g., fill with mean or remove rows)\n",
    "  # Here, we'll remove rows with missing height\n",
    "  data = data.dropna(subset=['height_M'])\n",
    "  data = data.loc[~(data['height_M'] == 0)]\n",
    "\n",
    "if data['elevation'].isnull().any():\n",
    "  # Handle missing values (e.g., fill with mean or remove rows)\n",
    "  # Here, we'll remove rows with missing height\n",
    "  data = data.dropna(subset=['elevation'])\n",
    "print(f\"We need trees with ELEVATION DATA. That means that we actually only have {len(data)} trees.\")"
   ]
  },
  {
   "cell_type": "code",
   "execution_count": 12,
   "id": "165698bf-812b-45c5-beba-0aacb60ec089",
   "metadata": {},
   "outputs": [
    {
     "data": {
      "text/plain": [
       "16"
      ]
     },
     "execution_count": 12,
     "metadata": {},
     "output_type": "execute_result"
    }
   ],
   "source": [
    "len(data['elevation'].value_counts()) # 16 places with elevation readings"
   ]
  },
  {
   "cell_type": "code",
   "execution_count": 13,
   "id": "88ef782c-6b29-41b6-8f08-3e1ad6f6f45a",
   "metadata": {},
   "outputs": [
    {
     "name": "stdout",
     "output_type": "stream",
     "text": [
      "Requirement already satisfied: openpyxl in /Users/owen/Development/tmp/bio-data-analysis/venv/lib/python3.12/site-packages (3.1.2)\n",
      "Requirement already satisfied: et-xmlfile in /Users/owen/Development/tmp/bio-data-analysis/venv/lib/python3.12/site-packages (from openpyxl) (1.1.0)\n"
     ]
    }
   ],
   "source": [
    "!pip install openpyxl"
   ]
  },
  {
   "cell_type": "code",
   "execution_count": 14,
   "id": "5ab5d5ee-a37f-41b2-ac12-94ab0b63f484",
   "metadata": {},
   "outputs": [
    {
     "data": {
      "text/plain": [
       "8         0.00000\n",
       "0        88.58268\n",
       "1        26.24672\n",
       "2        98.42520\n",
       "3        26.24672\n",
       "           ...   \n",
       "63019    45.93176\n",
       "63020    49.21260\n",
       "63021    49.21260\n",
       "63022    32.80840\n",
       "63023    32.80840\n",
       "Name: height_M, Length: 709143, dtype: float64"
      ]
     },
     "execution_count": 14,
     "metadata": {},
     "output_type": "execute_result"
    }
   ],
   "source": [
    "data['height_M']"
   ]
  },
  {
   "cell_type": "code",
   "execution_count": 15,
   "id": "f1b5a0ee-28ec-42cf-be2a-64edb3eae203",
   "metadata": {},
   "outputs": [],
   "source": [
    "# Now let's save this new DF\n",
    "!mkdir -p ../data/final # Replace with your path\n",
    "data.to_csv(\"../data/final/final.csv\")"
   ]
  },
  {
   "cell_type": "code",
   "execution_count": null,
   "id": "4014a822-bee0-46ef-bede-ef6e8dd87f2b",
   "metadata": {},
   "outputs": [],
   "source": []
  },
  {
   "cell_type": "code",
   "execution_count": null,
   "id": "0d75874a-a0f6-4a64-b083-409f633f8edb",
   "metadata": {},
   "outputs": [],
   "source": []
  }
 ],
 "metadata": {
  "kernelspec": {
   "display_name": "Python 3 (ipykernel)",
   "language": "python",
   "name": "python3"
  },
  "language_info": {
   "codemirror_mode": {
    "name": "ipython",
    "version": 3
   },
   "file_extension": ".py",
   "mimetype": "text/x-python",
   "name": "python",
   "nbconvert_exporter": "python",
   "pygments_lexer": "ipython3",
   "version": "3.12.2"
  }
 },
 "nbformat": 4,
 "nbformat_minor": 5
}
